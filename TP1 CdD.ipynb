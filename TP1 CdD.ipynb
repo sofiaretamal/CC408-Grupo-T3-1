{
 "cells": [
  {
   "cell_type": "code",
   "execution_count": 1,
   "id": "6aabdc43-ef60-4e87-8829-9ad21322a13e",
   "metadata": {},
   "outputs": [],
   "source": [
    "import pandas as pd"
   ]
  },
  {
   "cell_type": "code",
   "execution_count": 3,
   "id": "0552874a-e302-4c40-81e5-c21d778f5495",
   "metadata": {},
   "outputs": [],
   "source": [
    "EPH2025 = pd.read_excel(r\"C:/Users/Isabella/Downloads/usu_individual_T125.xlsx\")\n",
    "\n",
    "EPH2005 = pd.read_stata(r\"C:/Users/Isabella/Downloads/Individual_t105.dta\")\n"
   ]
  },
  {
   "cell_type": "code",
   "execution_count": 5,
   "id": "030935bb-c5a3-4a55-a912-41a560714d20",
   "metadata": {},
   "outputs": [
    {
     "name": "stdout",
     "output_type": "stream",
     "text": [
      "                          CODUSU  ANO4  TRIMESTRE  NRO_HOGAR  COMPONENTE  H15  \\\n",
      "0  TQRMNOVQVHJOLOCDEFKID00875778  2025          1          1           2    1   \n",
      "1  TQRMNOVQVHJOLOCDEFKID00875778  2025          1          1           3    0   \n",
      "2  TQRMNOVQVHJOLOCDEFKID00875778  2025          1          1           4    0   \n",
      "3  TQRMNOVQVHJOLOCDEFKID00875778  2025          1          1           5    0   \n",
      "4  TQRMNOUPQHLOLOCDEFKID00851757  2025          1          1           1    1   \n",
      "\n",
      "   REGION MAS_500  AGLOMERADO  PONDERA  ...  V21_03_M  V22_01_M V22_02_M  \\\n",
      "0      43       S           4      927  ...         0         0        0   \n",
      "1      43       S           4      927  ...         0         0        0   \n",
      "2      43       S           4      927  ...         0         0        0   \n",
      "3      43       S           4      927  ...         0         0        0   \n",
      "4      43       S           4     1294  ...         0         0        0   \n",
      "\n",
      "   V22_03_M  P_DECCF  P_RDECCF  P_GDECCF  P_PDECCF  P_IDECCF  P_ADECCF  \n",
      "0         0      3.0       2.0       3.0       NaN       3.0       2.0  \n",
      "1         0      3.0       2.0       3.0       NaN       3.0       2.0  \n",
      "2         0      3.0       2.0       3.0       NaN       3.0       2.0  \n",
      "3         0      3.0       2.0       3.0       NaN       3.0       2.0  \n",
      "4         0      3.0       3.0       3.0       NaN       3.0       3.0  \n",
      "\n",
      "[5 rows x 235 columns]\n",
      "     CODUSU  nro_hogar componente  h15    ano4       trimestre  \\\n",
      "0  125098          1.0        1.0   Sí  2005.0  1er. Trimestre   \n",
      "1  125188          1.0        1.0   Sí  2005.0  1er. Trimestre   \n",
      "2  125188          1.0        2.0   Sí  2005.0  1er. Trimestre   \n",
      "3  125188          1.0        3.0  0.0  2005.0  1er. Trimestre   \n",
      "4  125242          1.0        1.0   Sí  2005.0  1er. Trimestre   \n",
      "\n",
      "              region mas_500              aglomerado  pondera  ... deccfr  \\\n",
      "0  Gran Buenos Aires       S  Ciudad de Buenos Aires   1017.0  ...     08   \n",
      "1  Gran Buenos Aires       S  Ciudad de Buenos Aires   1062.0  ...     02   \n",
      "2  Gran Buenos Aires       S  Ciudad de Buenos Aires   1062.0  ...     02   \n",
      "3  Gran Buenos Aires       S  Ciudad de Buenos Aires   1062.0  ...     02   \n",
      "4  Gran Buenos Aires       S  Ciudad de Buenos Aires   1103.0  ...     09   \n",
      "\n",
      "  ideccfr rdeccfr gdeccfr pdeccfr adeccfr pj1_1 pj2_1 pj3_1 idimpp  \n",
      "0              07      08              05   0.0   0.0   0.0  00000  \n",
      "1              02      02              01   0.0   0.0   0.0  40020  \n",
      "2              02      02              01   0.0   0.0   0.0  00000  \n",
      "3              02      02              01   0.0   0.0   0.0  00000  \n",
      "4              09      09              07   0.0   0.0   0.0  00000  \n",
      "\n",
      "[5 rows x 176 columns]\n"
     ]
    }
   ],
   "source": [
    "print(EPH2025.head())\n",
    "print(EPH2005.head())"
   ]
  },
  {
   "cell_type": "code",
   "execution_count": 6,
   "id": "e1b20073-f749-4433-9014-1e3867e55bb2",
   "metadata": {},
   "outputs": [
    {
     "name": "stdout",
     "output_type": "stream",
     "text": [
      "Conteo por región 2025:\n",
      "REGION\n",
      "43    13803\n",
      "40     9742\n",
      "1      7181\n",
      "44     5359\n",
      "41     4746\n",
      "42     4594\n",
      "Name: count, dtype: int64\n",
      "\n",
      "Conteo por región 2005:\n",
      "region\n",
      "Pampeana             14651\n",
      "Gran Buenos Aires     9484\n",
      "NOA                   9348\n",
      "NEA                   5453\n",
      "Cuyo                  4865\n",
      "Patagónica            3229\n",
      "Name: count, dtype: int64\n"
     ]
    }
   ],
   "source": [
    "# Conteo por región 2025\n",
    "conteo_2025 = EPH2025['REGION'].value_counts()\n",
    "print(\"Conteo por región 2025:\")\n",
    "print(conteo_2025)\n",
    "\n",
    "# Conteo por región 2005\n",
    "conteo_2005 = EPH2005['region'].value_counts()\n",
    "print(\"\\nConteo por región 2005:\")\n",
    "print(conteo_2005)\n"
   ]
  },
  {
   "cell_type": "code",
   "execution_count": 7,
   "id": "3367f77d-ec93-4318-907c-f6e8b4e4697e",
   "metadata": {},
   "outputs": [
    {
     "name": "stdout",
     "output_type": "stream",
     "text": [
      "Missing values en REGION 2025: 0\n",
      "Missing values en region 2005: 0\n"
     ]
    }
   ],
   "source": [
    "# Para 2025 (variable REGION)\n",
    "missing_2025 = EPH2025['REGION'].isna().sum()\n",
    "print(\"Missing values en REGION 2025:\", missing_2025)\n",
    "\n",
    "# Para 2005 (variable region)\n",
    "missing_2005 = EPH2005['region'].isna().sum()\n",
    "print(\"Missing values en region 2005:\", missing_2005)\n"
   ]
  },
  {
   "cell_type": "code",
   "execution_count": 8,
   "id": "03cc3a55-dc0c-4eb3-a65c-7d83652636c1",
   "metadata": {},
   "outputs": [
    {
     "name": "stdout",
     "output_type": "stream",
     "text": [
      "REGION\n",
      "43    13803\n",
      "40     9742\n",
      "1      7181\n",
      "44     5359\n",
      "41     4746\n",
      "42     4594\n",
      "Name: count, dtype: int64\n",
      "region\n",
      "Pampeana             14651\n",
      "Gran Buenos Aires     9484\n",
      "NOA                   9348\n",
      "NEA                   5453\n",
      "Cuyo                  4865\n",
      "Patagónica            3229\n",
      "Name: count, dtype: int64\n"
     ]
    }
   ],
   "source": [
    "# Para 2025\n",
    "print(EPH2025['REGION'].value_counts(dropna=False))\n",
    "\n",
    "# Para 2005\n",
    "print(EPH2005['region'].value_counts(dropna=False))\n"
   ]
  },
  {
   "cell_type": "code",
   "execution_count": 10,
   "id": "5572765a-5b81-4a72-844f-f9799727dce7",
   "metadata": {},
   "outputs": [
    {
     "name": "stdout",
     "output_type": "stream",
     "text": [
      "Missing values en REGION 2025: 0\n",
      "Missing values en region 2005: 0\n"
     ]
    }
   ],
   "source": [
    "# Para 2025\n",
    "missing_2025 = (EPH2025['REGION'] == \"\").sum()\n",
    "print(\"Missing values en REGION 2025:\", missing_2025)\n",
    "\n",
    "# Para 2005\n",
    "missing_2005 = (EPH2005['region'] == \"\").sum()\n",
    "print(\"Missing values en region 2005:\", missing_2005)\n"
   ]
  },
  {
   "cell_type": "code",
   "execution_count": 11,
   "id": "f1146077-2823-4346-92dc-c7b90b200783",
   "metadata": {},
   "outputs": [
    {
     "name": "stdout",
     "output_type": "stream",
     "text": [
      "[43 41 42 40 44  1]\n",
      "['Gran Buenos Aires', 'NOA', 'NEA', 'Cuyo', 'Pampeana', 'Patagónica']\n",
      "Categories (6, object): ['Gran Buenos Aires' < 'NOA' < 'NEA' < 'Cuyo' < 'Pampeana' < 'Patagónica']\n"
     ]
    }
   ],
   "source": [
    "# Ver los valores únicos de la columna REGION 2025\n",
    "print(EPH2025['REGION'].unique())\n",
    "\n",
    "# Lo mismo para 2005\n",
    "print(EPH2005['region'].unique())\n"
   ]
  }
 ],
 "metadata": {
  "kernelspec": {
   "display_name": "Python 3 (ipykernel)",
   "language": "python",
   "name": "python3"
  },
  "language_info": {
   "codemirror_mode": {
    "name": "ipython",
    "version": 3
   },
   "file_extension": ".py",
   "mimetype": "text/x-python",
   "name": "python",
   "nbconvert_exporter": "python",
   "pygments_lexer": "ipython3",
   "version": "3.13.5"
  }
 },
 "nbformat": 4,
 "nbformat_minor": 5
}
